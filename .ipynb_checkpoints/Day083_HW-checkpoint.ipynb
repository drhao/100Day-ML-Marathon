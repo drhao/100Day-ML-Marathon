{
 "cells": [
  {
   "cell_type": "markdown",
   "metadata": {},
   "source": [
    "## Work\n",
    "1. 試比較有 BN 在 Batch_size = 2, 16, 32, 128, 256 下的差異\n",
    "2. 請嘗試將 BN 放在 Activation 之前，並比較訓練結果\n",
    "3. 請於 BN 放在 Input Layer 後，並比較結果"
   ]
  },
  {
   "cell_type": "code",
   "execution_count": 1,
   "metadata": {},
   "outputs": [
    {
     "name": "stderr",
     "output_type": "stream",
     "text": [
      "Using TensorFlow backend.\n"
     ]
    }
   ],
   "source": [
    "import os\n",
    "import keras\n",
    "import itertools\n",
    "# Disable GPU\n",
    "os.environ[\"CUDA_VISIBLE_DEVICES\"] = \"\""
   ]
  },
  {
   "cell_type": "code",
   "execution_count": 2,
   "metadata": {},
   "outputs": [],
   "source": [
    "train, test = keras.datasets.cifar10.load_data()"
   ]
  },
  {
   "cell_type": "code",
   "execution_count": 3,
   "metadata": {},
   "outputs": [],
   "source": [
    "## 資料前處理\n",
    "def preproc_x(x, flatten=True):\n",
    "    x = x / 255.\n",
    "    if flatten:\n",
    "        x = x.reshape((len(x), -1))\n",
    "    return x\n",
    "\n",
    "def preproc_y(y, num_classes=10):\n",
    "    if y.shape[-1] == 1:\n",
    "        y = keras.utils.to_categorical(y, num_classes)\n",
    "    return y    "
   ]
  },
  {
   "cell_type": "code",
   "execution_count": 5,
   "metadata": {},
   "outputs": [],
   "source": [
    "x_train, y_train = train\n",
    "x_test, y_test = test\n",
    "\n",
    "# Preproc the inputs\n",
    "x_train = preproc_x(x_train)\n",
    "x_test = preproc_x(x_test)\n",
    "\n",
    "# Preprc the outputs\n",
    "y_train = preproc_y(y_train)\n",
    "y_test = preproc_y(y_test)"
   ]
  },
  {
   "cell_type": "code",
   "execution_count": 18,
   "metadata": {},
   "outputs": [],
   "source": [
    "from keras.layers import BatchNormalization\n",
    "def build_mlp(input_shape, output_units=10, num_neurons=[512, 256, 128]):\n",
    "    \"\"\"Code Here\n",
    "    建立你的神經網路\n",
    "    \"\"\"\n",
    "    input_layer = keras.layers.Input(input_shape)\n",
    "    \n",
    "    for i, n_units in enumerate(num_neurons):\n",
    "        if i == 0:\n",
    "            x = keras.layers.Dense(units=n_units, \n",
    "                                   activation=\"relu\", \n",
    "                                   name=\"hidden_layer\"+str(i+1))(input_layer)\n",
    "            x = BatchNormalization()(x)\n",
    "        else:\n",
    "            x = keras.layers.Dense(units=n_units, \n",
    "                                   activation=\"relu\", \n",
    "                                   name=\"hidden_layer\"+str(i+1))(x)\n",
    "            x = BatchNormalization()(x)\n",
    "    \n",
    "    out = keras.layers.Dense(units=output_units, activation=\"softmax\", name=\"output\")(x)\n",
    "    \n",
    "    model = keras.models.Model(inputs=[input_layer], outputs=[out])\n",
    "    return model"
   ]
  },
  {
   "cell_type": "code",
   "execution_count": 23,
   "metadata": {},
   "outputs": [],
   "source": [
    "\"\"\"Code Here\n",
    "設定超參數\n",
    "\"\"\"\n",
    "## 超參數設定\n",
    "LEARNING_RATE = 1e-3\n",
    "EPOCHS = 20\n",
    "BATCH_SIZE = [128, 256]\n",
    "MOMENTUM = 0.95\n"
   ]
  },
  {
   "cell_type": "code",
   "execution_count": 24,
   "metadata": {
    "scrolled": true
   },
   "outputs": [
    {
     "name": "stdout",
     "output_type": "stream",
     "text": [
      "_________________________________________________________________\n",
      "Layer (type)                 Output Shape              Param #   \n",
      "=================================================================\n",
      "input_4 (InputLayer)         (None, 3072)              0         \n",
      "_________________________________________________________________\n",
      "hidden_layer1 (Dense)        (None, 512)               1573376   \n",
      "_________________________________________________________________\n",
      "batch_normalization_7 (Batch (None, 512)               2048      \n",
      "_________________________________________________________________\n",
      "hidden_layer2 (Dense)        (None, 256)               131328    \n",
      "_________________________________________________________________\n",
      "batch_normalization_8 (Batch (None, 256)               1024      \n",
      "_________________________________________________________________\n",
      "hidden_layer3 (Dense)        (None, 128)               32896     \n",
      "_________________________________________________________________\n",
      "batch_normalization_9 (Batch (None, 128)               512       \n",
      "_________________________________________________________________\n",
      "output (Dense)               (None, 10)                1290      \n",
      "=================================================================\n",
      "Total params: 1,742,474\n",
      "Trainable params: 1,740,682\n",
      "Non-trainable params: 1,792\n",
      "_________________________________________________________________\n",
      "Train on 50000 samples, validate on 10000 samples\n",
      "Epoch 1/20\n",
      "50000/50000 [==============================] - 28s 561us/step - loss: 1.7649 - acc: 0.3846 - val_loss: 1.7421 - val_acc: 0.3948\n",
      "Epoch 2/20\n",
      "50000/50000 [==============================] - 25s 505us/step - loss: 1.4879 - acc: 0.4747 - val_loss: 1.5982 - val_acc: 0.4369\n",
      "Epoch 3/20\n",
      "50000/50000 [==============================] - 20s 391us/step - loss: 1.3921 - acc: 0.5100 - val_loss: 1.4936 - val_acc: 0.4736\n",
      "Epoch 4/20\n",
      "50000/50000 [==============================] - 29s 582us/step - loss: 1.3191 - acc: 0.5366 - val_loss: 1.4881 - val_acc: 0.4742\n",
      "Epoch 5/20\n",
      "50000/50000 [==============================] - 30s 610us/step - loss: 1.2615 - acc: 0.5567 - val_loss: 1.5103 - val_acc: 0.4680\n",
      "Epoch 6/20\n",
      "50000/50000 [==============================] - 30s 591us/step - loss: 1.2050 - acc: 0.5764 - val_loss: 1.5430 - val_acc: 0.4663\n",
      "Epoch 7/20\n",
      "50000/50000 [==============================] - 24s 486us/step - loss: 1.1597 - acc: 0.5918 - val_loss: 1.4625 - val_acc: 0.4809\n",
      "Epoch 8/20\n",
      "50000/50000 [==============================] - 28s 561us/step - loss: 1.1159 - acc: 0.6096 - val_loss: 1.5080 - val_acc: 0.4765\n",
      "Epoch 9/20\n",
      "50000/50000 [==============================] - 18s 363us/step - loss: 1.0786 - acc: 0.6226 - val_loss: 1.4601 - val_acc: 0.4859\n",
      "Epoch 10/20\n",
      "50000/50000 [==============================] - 15s 296us/step - loss: 1.0453 - acc: 0.6331 - val_loss: 1.5410 - val_acc: 0.4748\n",
      "Epoch 11/20\n",
      "50000/50000 [==============================] - 20s 390us/step - loss: 1.0066 - acc: 0.6481 - val_loss: 1.4795 - val_acc: 0.4880\n",
      "Epoch 12/20\n",
      "50000/50000 [==============================] - 18s 361us/step - loss: 0.9722 - acc: 0.6610 - val_loss: 1.6169 - val_acc: 0.4610\n",
      "Epoch 13/20\n",
      "50000/50000 [==============================] - 27s 547us/step - loss: 0.9381 - acc: 0.6705 - val_loss: 1.5435 - val_acc: 0.4791\n",
      "Epoch 14/20\n",
      "50000/50000 [==============================] - 17s 340us/step - loss: 0.9103 - acc: 0.6838 - val_loss: 1.5932 - val_acc: 0.4610\n",
      "Epoch 15/20\n",
      "50000/50000 [==============================] - 16s 311us/step - loss: 0.8740 - acc: 0.6936 - val_loss: 1.6518 - val_acc: 0.4507\n",
      "Epoch 16/20\n",
      "50000/50000 [==============================] - 15s 298us/step - loss: 0.8486 - acc: 0.7057 - val_loss: 1.5808 - val_acc: 0.4787\n",
      "Epoch 17/20\n",
      "50000/50000 [==============================] - 15s 296us/step - loss: 0.8307 - acc: 0.7073 - val_loss: 1.6166 - val_acc: 0.4656\n",
      "Epoch 18/20\n",
      "50000/50000 [==============================] - 15s 302us/step - loss: 0.8089 - acc: 0.7180 - val_loss: 1.6661 - val_acc: 0.4699\n",
      "Epoch 19/20\n",
      "50000/50000 [==============================] - 15s 296us/step - loss: 0.7742 - acc: 0.7267 - val_loss: 1.6729 - val_acc: 0.4671\n",
      "Epoch 20/20\n",
      "50000/50000 [==============================] - 15s 302us/step - loss: 0.7486 - acc: 0.7359 - val_loss: 2.0262 - val_acc: 0.4255\n"
     ]
    },
    {
     "ename": "NameError",
     "evalue": "name 'total' is not defined",
     "output_type": "error",
     "traceback": [
      "\u001b[0;31m---------------------------------------------------------------------------\u001b[0m",
      "\u001b[0;31mNameError\u001b[0m                                 Traceback (most recent call last)",
      "\u001b[0;32m<ipython-input-24-24806b068cbc>\u001b[0m in \u001b[0;36m<module>\u001b[0;34m\u001b[0m\n\u001b[1;32m     22\u001b[0m     \u001b[0mresults\u001b[0m\u001b[0;34m[\u001b[0m\u001b[0;34m'valid_acc'\u001b[0m\u001b[0;34m]\u001b[0m \u001b[0;34m=\u001b[0m \u001b[0mmodel\u001b[0m\u001b[0;34m.\u001b[0m\u001b[0mhistory\u001b[0m\u001b[0;34m.\u001b[0m\u001b[0mhistory\u001b[0m\u001b[0;34m[\u001b[0m\u001b[0;34m\"val_acc\"\u001b[0m\u001b[0;34m]\u001b[0m\u001b[0;34m\u001b[0m\u001b[0;34m\u001b[0m\u001b[0m\n\u001b[1;32m     23\u001b[0m \u001b[0;34m\u001b[0m\u001b[0m\n\u001b[0;32m---> 24\u001b[0;31m     \u001b[0mtotal\u001b[0m\u001b[0;34m.\u001b[0m\u001b[0mappend\u001b[0m\u001b[0;34m(\u001b[0m\u001b[0mresults\u001b[0m\u001b[0;34m)\u001b[0m\u001b[0;34m\u001b[0m\u001b[0;34m\u001b[0m\u001b[0m\n\u001b[0m",
      "\u001b[0;31mNameError\u001b[0m: name 'total' is not defined"
     ]
    }
   ],
   "source": [
    "results = {}\n",
    "total_results = []\n",
    "\"\"\"Code Here\n",
    "撰寫你的訓練流程並將結果用 dictionary 紀錄\n",
    "\"\"\"\n",
    "for i in BATCH_SIZE:\n",
    "    model = build_mlp(input_shape=x_train.shape[1:])\n",
    "    model.summary()\n",
    "    optimizer = keras.optimizers.SGD(lr=LEARNING_RATE, nesterov=True, momentum=MOMENTUM)\n",
    "    model.compile(loss=\"categorical_crossentropy\", metrics=[\"accuracy\"], optimizer=optimizer)\n",
    "\n",
    "    model.fit(x_train, y_train, \n",
    "          epochs=EPOCHS, \n",
    "          batch_size=i, \n",
    "          validation_data=(x_test, y_test), \n",
    "          shuffle=True)\n",
    "\n",
    "    # Collect results\n",
    "    results['train_loss'] = model.history.history[\"loss\"]\n",
    "    results['valid_loss'] = model.history.history[\"val_loss\"]\n",
    "    results['train_acc'] = model.history.history[\"acc\"]\n",
    "    results['valid_acc'] = model.history.history[\"val_acc\"]\n",
    "    \n",
    "    total_results.append(results)\n"
   ]
  },
  {
   "cell_type": "code",
   "execution_count": null,
   "metadata": {},
   "outputs": [],
   "source": [
    "import matplotlib.pyplot as plt\n",
    "%matplotlib inline\n",
    "\"\"\"Code Here\n",
    "將結果繪出\n",
    "\"\"\"\n",
    "plt.plot(range(len(train_loss)), train_loss, label=\"train loss\")\n",
    "plt.plot(range(len(valid_loss)), valid_loss, label=\"valid loss\")\n",
    "plt.legend()\n",
    "plt.title(\"Loss\")\n",
    "plt.show()\n",
    "\n",
    "plt.plot(range(len(train_acc)), train_acc, label=\"train accuracy\")\n",
    "plt.plot(range(len(valid_acc)), valid_acc, label=\"valid accuracy\")\n",
    "plt.legend()\n",
    "plt.title(\"Accuracy\")\n",
    "plt.show()"
   ]
  }
 ],
 "metadata": {
  "kernelspec": {
   "display_name": "Python 3",
   "language": "python",
   "name": "python3"
  },
  "language_info": {
   "codemirror_mode": {
    "name": "ipython",
    "version": 3
   },
   "file_extension": ".py",
   "mimetype": "text/x-python",
   "name": "python",
   "nbconvert_exporter": "python",
   "pygments_lexer": "ipython3",
   "version": "3.6.8"
  }
 },
 "nbformat": 4,
 "nbformat_minor": 2
}
